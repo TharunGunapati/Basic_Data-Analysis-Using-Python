{
 "cells": [
  {
   "cell_type": "code",
   "execution_count": 5,
   "metadata": {},
   "outputs": [
    {
     "name": "stdout",
     "output_type": "stream",
     "text": [
      "   Day  Visitors  interaction_rate\n",
      "0    1        12                10\n",
      "1    2        35                50\n",
      "2    3        67                 8\n",
      "3    4        23                91\n",
      "4    5        67                61\n",
      "5    6        89                19\n"
     ]
    }
   ],
   "source": [
    "import pandas as pd \n",
    "import matplotlib.pyplot as plt\n",
    "#declaraing the data frame\n",
    "dic_data={\"Day\":[1,2,3,4,5,6], \"Visitors\":[12,35,67,23,67,89],\"interaction_rate\":[10,50,8,91,61,19]}\n",
    "df=pd.DataFrame(dic_data)\n",
    "print(df)"
   ]
  },
  {
   "cell_type": "code",
   "execution_count": 6,
   "metadata": {},
   "outputs": [
    {
     "data": {
      "text/html": [
       "<div>\n",
       "<style scoped>\n",
       "    .dataframe tbody tr th:only-of-type {\n",
       "        vertical-align: middle;\n",
       "    }\n",
       "\n",
       "    .dataframe tbody tr th {\n",
       "        vertical-align: top;\n",
       "    }\n",
       "\n",
       "    .dataframe thead th {\n",
       "        text-align: right;\n",
       "    }\n",
       "</style>\n",
       "<table border=\"1\" class=\"dataframe\">\n",
       "  <thead>\n",
       "    <tr style=\"text-align: right;\">\n",
       "      <th></th>\n",
       "      <th>Day</th>\n",
       "      <th>Visitors</th>\n",
       "      <th>interaction_rate</th>\n",
       "    </tr>\n",
       "  </thead>\n",
       "  <tbody>\n",
       "    <tr>\n",
       "      <th>0</th>\n",
       "      <td>1</td>\n",
       "      <td>12</td>\n",
       "      <td>10</td>\n",
       "    </tr>\n",
       "    <tr>\n",
       "      <th>1</th>\n",
       "      <td>2</td>\n",
       "      <td>35</td>\n",
       "      <td>50</td>\n",
       "    </tr>\n",
       "    <tr>\n",
       "      <th>2</th>\n",
       "      <td>3</td>\n",
       "      <td>67</td>\n",
       "      <td>8</td>\n",
       "    </tr>\n",
       "  </tbody>\n",
       "</table>\n",
       "</div>"
      ],
      "text/plain": [
       "   Day  Visitors  interaction_rate\n",
       "0    1        12                10\n",
       "1    2        35                50\n",
       "2    3        67                 8"
      ]
     },
     "execution_count": 6,
     "metadata": {},
     "output_type": "execute_result"
    }
   ],
   "source": [
    "#splitting head\n",
    "df.head(3)"
   ]
  },
  {
   "cell_type": "code",
   "execution_count": 7,
   "metadata": {},
   "outputs": [
    {
     "data": {
      "text/html": [
       "<div>\n",
       "<style scoped>\n",
       "    .dataframe tbody tr th:only-of-type {\n",
       "        vertical-align: middle;\n",
       "    }\n",
       "\n",
       "    .dataframe tbody tr th {\n",
       "        vertical-align: top;\n",
       "    }\n",
       "\n",
       "    .dataframe thead th {\n",
       "        text-align: right;\n",
       "    }\n",
       "</style>\n",
       "<table border=\"1\" class=\"dataframe\">\n",
       "  <thead>\n",
       "    <tr style=\"text-align: right;\">\n",
       "      <th></th>\n",
       "      <th>Day</th>\n",
       "      <th>Visitors</th>\n",
       "      <th>interaction_rate</th>\n",
       "    </tr>\n",
       "  </thead>\n",
       "  <tbody>\n",
       "    <tr>\n",
       "      <th>3</th>\n",
       "      <td>4</td>\n",
       "      <td>23</td>\n",
       "      <td>91</td>\n",
       "    </tr>\n",
       "    <tr>\n",
       "      <th>4</th>\n",
       "      <td>5</td>\n",
       "      <td>67</td>\n",
       "      <td>61</td>\n",
       "    </tr>\n",
       "    <tr>\n",
       "      <th>5</th>\n",
       "      <td>6</td>\n",
       "      <td>89</td>\n",
       "      <td>19</td>\n",
       "    </tr>\n",
       "  </tbody>\n",
       "</table>\n",
       "</div>"
      ],
      "text/plain": [
       "   Day  Visitors  interaction_rate\n",
       "3    4        23                91\n",
       "4    5        67                61\n",
       "5    6        89                19"
      ]
     },
     "execution_count": 7,
     "metadata": {},
     "output_type": "execute_result"
    }
   ],
   "source": [
    "#splitting tail\n",
    "df.tail(3)"
   ]
  },
  {
   "cell_type": "code",
   "execution_count": 8,
   "metadata": {},
   "outputs": [
    {
     "name": "stdout",
     "output_type": "stream",
     "text": [
      "   House_price  int_rate  ind_GDP\n",
      "0           80         3       10\n",
      "1           95         5       34\n",
      "2           60         6       63\n",
      "3           40         2       25\n",
      "4           35         9       71\n"
     ]
    }
   ],
   "source": [
    "#Merging the Data (index wont be in Double quotes)\n",
    "#from operator import index(optional)\n",
    "#if we give one record unmatched in data that whole row nots gonna shown\n",
    "data1=pd.DataFrame({\"House_price\":[80,95,60,40,35],\"int_rate\":[3,5,6,2,9],\"ind_GDP\":[10,34,63,25,71]},index=[2001,2002,2003,2004,2005])\n",
    "data2=pd.DataFrame({\"House_price\":[80,95,60,40,35],\"int_rate\":[3,5,6,2,9],\"ind_GDP\":[10,34,63,25,71]},index=[2006,2007,2008,2009,2010])\n",
    "\n",
    "Gdp_data=pd.merge(data1,data2)\n",
    "print(Gdp_data)\n",
    "\n"
   ]
  },
  {
   "cell_type": "code",
   "execution_count": 9,
   "metadata": {},
   "outputs": [
    {
     "name": "stdout",
     "output_type": "stream",
     "text": [
      "   House_price  int_rate_x  ind_GDP_x  int_rate_y  ind_GDP_y\n",
      "0           80           3         10           3         10\n",
      "1           95           5         34           5         34\n",
      "2           60           6         63           6         63\n",
      "3           40           2         25           2         25\n",
      "4           35           9         71           9         71\n"
     ]
    }
   ],
   "source": [
    "# To use  same colums (on=\"colm name\")\n",
    "data1=pd.DataFrame({\"House_price\":[80,95,60,40,35],\"int_rate\":[3,5,6,2,9],\"ind_GDP\":[10,34,63,25,71]},index=[2001,2002,2003,2004,2005])\n",
    "data2=pd.DataFrame({\"House_price\":[80,95,60,40,35],\"int_rate\":[3,5,6,2,9],\"ind_GDP\":[10,34,63,25,71]},index=[2006,2007,2008,2009,2010])\n",
    "\n",
    "Gdp_data=pd.merge(data1,data2,on=\"House_price\")\n",
    "print(Gdp_data)"
   ]
  },
  {
   "cell_type": "code",
   "execution_count": 10,
   "metadata": {},
   "outputs": [
    {
     "name": "stdout",
     "output_type": "stream",
     "text": [
      "      House_  int_  ind_  House_price  int_rate  ind_GDP\n",
      "2001      80     3    10         80.0       3.0     10.0\n",
      "2002      95     5    34          NaN       NaN      NaN\n",
      "2003      60     6    63          NaN       NaN      NaN\n",
      "2004      40     2    25          NaN       NaN      NaN\n",
      "2005      35     9    71         35.0       9.0     71.0\n"
     ]
    }
   ],
   "source": [
    "#joining the data\n",
    "data1=pd.DataFrame({\"House_\":[80,95,60,40,35],\"int_\":[3,5,6,2,9],\"ind_\":[10,34,63,25,71]},index=[2001,2002,2003,2004,2005])\n",
    "data2=pd.DataFrame({\"House_price\":[80,95,60,40,35],\"int_rate\":[3,5,6,2,9],\"ind_GDP\":[10,34,63,25,71]},index=[2001,2007,2008,2009,2005])\n",
    "Gdp_data=data1.join(data2)\n",
    "print(Gdp_data)"
   ]
  },
  {
   "cell_type": "code",
   "execution_count": 11,
   "metadata": {},
   "outputs": [
    {
     "name": "stdout",
     "output_type": "stream",
     "text": [
      "     Reach  Visitors\n",
      "Day                 \n",
      "1       10       200\n",
      "2       60       688\n",
      "3       45       155\n"
     ]
    }
   ],
   "source": [
    "# changing the column name and index name\n",
    "df={\"Reach\":[10,60,45],\"Visitors\":[200,688,155],\"Day\":[1,2,3]}\n",
    "\n",
    "dat=pd.DataFrame(df)\n",
    "#making day as index\n",
    "dat.set_index(\"Day\", inplace=True)\n",
    "print(dat)"
   ]
  },
  {
   "cell_type": "code",
   "execution_count": 12,
   "metadata": {},
   "outputs": [
    {
     "name": "stdout",
     "output_type": "stream",
     "text": [
      "   Reach  Subscribers  Day\n",
      "0     10          200    1\n",
      "1     60          688    2\n",
      "2     45          155    3\n"
     ]
    }
   ],
   "source": [
    "#re-naming the coloumn\n",
    "df1={\"Reach\":[10,60,45],\"Visitors\":[200,688,155],\"Day\":[1,2,3]}\n",
    "dat1=pd.DataFrame(df)\n",
    "dat1=dat1.rename(columns={\"Visitors\":\"Subscribers\"})\n",
    "print(dat1)"
   ]
  },
  {
   "cell_type": "code",
   "execution_count": 13,
   "metadata": {},
   "outputs": [
    {
     "name": "stdout",
     "output_type": "stream",
     "text": [
      "     Type  Cost in Rs\n",
      "1  Ginger          20\n",
      "2  Masala          30\n",
      "3    Rose          30\n",
      "4  Elachi          15\n"
     ]
    }
   ],
   "source": [
    "#Concatination\n",
    "tea1=pd.DataFrame({\"Type\":[\"Ginger\",\"Masala\"],\"Cost in Rs\":[20,30]},index=[1,2])\n",
    "tea2=pd.DataFrame({\"Type\":[\"Rose\",'Elachi'],\"Cost in Rs\":[30,15]},index=[3,4])\n",
    "tea=pd.concat([tea1,tea2])\n",
    "print(tea)"
   ]
  },
  {
   "cell_type": "code",
   "execution_count": 14,
   "metadata": {},
   "outputs": [],
   "source": [
    "#data Munging(type conversion )\n",
    "#directly after running this code one html file attaches to the folder\n",
    "netflix=pd.read_csv(r\"C:\\Users\\HP\\Downloads\\8. Netflix Dataset.csv\")\n",
    "netflix.to_html('netflix.html')\n"
   ]
  },
  {
   "cell_type": "code",
   "execution_count": 15,
   "metadata": {},
   "outputs": [
    {
     "data": {
      "image/png": "[encoded data removed]",
      "text/plain": [
       "<Figure size 640x480 with 1 Axes>"
      ]
     },
     "metadata": {},
     "output_type": "display_data"
    }
   ],
   "source": [
    "#creating a graph with style \"fivethreeeight\"\n",
    "#in this type of graph x-axis comes under index value in default\n",
    "from matplotlib import style\n",
    "style.use('fivethirtyeight')\n",
    "info=pd.DataFrame({\"kids age in years\":[10,15,8],\"Screen time(hrs)\":[3,6,1]})\n",
    "info.plot()\n",
    "plt.show()"
   ]
  },
  {
   "cell_type": "code",
   "execution_count": 22,
   "metadata": {},
   "outputs": [
    {
     "name": "stdout",
     "output_type": "stream",
     "text": [
      "######-MEAN\n",
      "4.5\n",
      "######-MEDIAN\n",
      "4.5\n",
      "######-MODE\n",
      "1\n",
      "######-VARIANCE\n",
      "6\n"
     ]
    }
   ],
   "source": [
    "#mean , Mode , Median and Variance\n",
    "from statistics import mean\n",
    "print('######-MEAN')\n",
    "print(mean([1,2,3,4,5,6,7,8]))\n",
    "from statistics import median\n",
    "print('######-MEDIAN')\n",
    "print(median([1,2,3,4,5,6,7,8]))\n",
    "from statistics import mode\n",
    "print('######-MODE')\n",
    "print(mode([1,2,3,4,5,6,7,8]))\n",
    "from statistics import variance\n",
    "print('######-VARIANCE')\n",
    "print(variance([1,2,3,4,5,6,7,8]))"
   ]
  }
 ],
 "metadata": {
  "kernelspec": {
   "display_name": "base",
   "language": "python",
   "name": "python3"
  },
  "language_info": {
   "codemirror_mode": {
    "name": "ipython",
    "version": 3
   },
   "file_extension": ".py",
   "mimetype": "text/x-python",
   "name": "python",
   "nbconvert_exporter": "python",
   "pygments_lexer": "ipython3",
   "version": "3.10.9"
  },
  "orig_nbformat": 4
 },
 "nbformat": 4,
 "nbformat_minor": 2
}
